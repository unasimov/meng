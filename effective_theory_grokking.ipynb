{
  "nbformat": 4,
  "nbformat_minor": 0,
  "metadata": {
    "colab": {
      "provenance": [],
      "collapsed_sections": []
    },
    "kernelspec": {
      "name": "python3",
      "display_name": "Python 3"
    },
    "language_info": {
      "name": "python"
    },
    "accelerator": "GPU"
  },
  "cells": [
    {
      "cell_type": "code",
      "execution_count": 17,
      "metadata": {
        "id": "YXyiFd1QLDSh"
      },
      "outputs": [],
      "source": [
        "import math\n",
        "import matplotlib.pyplot as plt\n",
        "from tqdm import tqdm\n",
        "from sklearn.decomposition import PCA\n",
        "\n",
        "import torch\n",
        "from torch import nn\n",
        "import torch.nn.functional as F\n",
        "import numpy as np"
      ]
    },
    {
      "cell_type": "markdown",
      "source": [
        "# mlp model"
      ],
      "metadata": {
        "id": "IyL_MH_bDJXz"
      }
    },
    {
      "cell_type": "code",
      "source": [
        "class MLPModel(nn.Module):\n",
        "  def __init__(self, dim=128, num_tokens=97, max_norm=None, use_norm_layer=False):\n",
        "    \"\"\"\n",
        "    from the physics paper\n",
        "      The basic setup is as follows: our model takes as input the symbols a, b and\n",
        "      maps them to trainable embedding vectors Ea, Eb ∈ Rdin . It then sums Ea, Eb and sends the resulting\n",
        "      vector through a “decoder” MLP. The target output vector, denoted Yc ∈ Rdout is a fixed random\n",
        "      vector (regression task) or a one-hot vector (classification task).\n",
        "    \"\"\"\n",
        "    super().__init__()\n",
        "    self.use_norm_layer = use_norm_layer\n",
        "    self.embedding_norm = nn.LayerNorm(dim) \n",
        "    # token_embeddings map integer tokens 0...p-1 to embeddings of size dim\n",
        "    self.token_embeddings = nn.Embedding(num_tokens, dim, max_norm=max_norm)\n",
        "    # decoder is a MLP\n",
        "    self.decoder = nn.Sequential(\n",
        "      nn.Linear(dim, 200),\n",
        "      nn.ReLU(),\n",
        "      nn.Linear(200, dim),\n",
        "      nn.ReLU(),\n",
        "    )\n",
        "    self.head = nn.Linear(dim, num_tokens)\n",
        "\n",
        "    # norms of the initialized layers\n",
        "    self.token_weights_initial = torch.norm(self.token_embeddings.weight).item()\n",
        "    # self.decoder_l1_weights_initial = torch.norm(self.decoder[0].weight).item()\n",
        "    # self.decoder_l2_weights_initial = torch.norm(self.decoder[2].weight).item()\n",
        "    # self.head_weights_initial = torch.norm(self.head.weight).item()\n",
        "\n",
        "  def forward(self, x1, x2):\n",
        "    h1 = self.token_embeddings(x1)\n",
        "    h2 = self.token_embeddings(x2)\n",
        "\n",
        "    # embedding_norm only used when use_norm_layer is true\n",
        "    if self.use_norm_layer:\n",
        "      h = self.embedding_norm(h1) + self.embedding_norm(h2)\n",
        "    else:\n",
        "      h = h1 + h2\n",
        "    x = self.decoder(h)\n",
        "    return self.head(x)\n",
        "\n",
        "  def normalize(self):\n",
        "    \"\"\"\n",
        "    trying to replicate the results from omnigrok by normalizing the weights\n",
        "    \"\"\"\n",
        "    self.token_embeddings.weight = nn.Parameter(self.token_embeddings.weight * (self.token_weights_initial / torch.norm(self.token_embeddings.weight).item()))\n",
        "    # self.decoder[0].weight = nn.Parameter(self.decoder[0].weight * (self.decoder_l1_weights_initial / torch.norm(self.decoder[0].weight).item()))\n",
        "    # self.decoder[2].weight = nn.Parameter(self.decoder[2].weight * (self.decoder_l2_weights_initial / torch.norm(self.decoder[2].weight).item()))\n",
        "    # self.head.weight = nn.Parameter(self.head.weight * (self.head_weights_initial / torch.norm(self.head.weight).item()))\n"
      ],
      "metadata": {
        "id": "xclQYV89MTdo"
      },
      "execution_count": 18,
      "outputs": []
    },
    {
      "cell_type": "code",
      "source": [
        "def mod_p_data(p, operations=[\"addition\"]):\n",
        "  \"\"\"\n",
        "  create the algorithmic dataset\n",
        "  input:\n",
        "    p - prime number\n",
        "    operations - list of operations \n",
        "  returns:\n",
        "    2 + len(operations) by p^2//2 matrix where the first row is x, second row is y, nth row after is the \n",
        "    operation in operations applied to x, y (in order)\n",
        "    example:\n",
        "      p = 3, operation = [\"addition\", \"multiplication\"] returns\n",
        "        tensor([[0, 0, 0, 1, 1, 2],\n",
        "                [0, 1, 2, 1, 2, 2],\n",
        "                [0, 1, 2, 2, 0, 1],\n",
        "                [0, 0, 0, 1, 2, 1]])\n",
        "  \"\"\"\n",
        "  x = []\n",
        "  y = []\n",
        "  result = []\n",
        "\n",
        "  for i in range(p):\n",
        "    for j in range(i, p):\n",
        "      x.append(i)\n",
        "      y.append(j)\n",
        "      result_i = []\n",
        "      for operation in operations:\n",
        "        if operation == \"multiplication\":\n",
        "          result_i.append((i * j) % p)\n",
        "        elif operation == \"addition\":\n",
        "          result_i.append((i + j) % p)\n",
        "        elif operation == \"squared_sum\":\n",
        "          result_i.append((i**2 + j**2) % p)\n",
        "        elif operation == \"x^2+xy+y^2\":\n",
        "          result_i.append((i**2 + i*j + j**2) % p)\n",
        "      result.append(result_i)\n",
        "\n",
        "  return torch.concat([torch.tensor(x).unsqueeze(dim=-1).T, torch.tensor(y).unsqueeze(dim=-1).T, torch.tensor(result).T])"
      ],
      "metadata": {
        "id": "uW9gYvuDQIrb"
      },
      "execution_count": 19,
      "outputs": []
    },
    {
      "cell_type": "code",
      "source": [
        "import itertools\n",
        "def getAdditionPairs(p):\n",
        "  \"\"\"\n",
        "  returns set of tuple pairs ((a_1, b_1), (a_2, b_2)) such that (a_1 + b_1) mod p = (a_2 + b_2) mod p\n",
        "  for all 0 <= a_i, b_i <= p - 1\n",
        "    example, (p = 3):\n",
        "      {((0, 0), (1, 2)),\n",
        "      ((0, 0), (2, 1)),\n",
        "      ((0, 1), (1, 0)),\n",
        "      ((0, 1), (2, 2)),\n",
        "      ((0, 2), (1, 1)),\n",
        "      ((0, 2), (2, 0)),\n",
        "      ((1, 0), (2, 2)),\n",
        "      ((1, 1), (2, 0)),\n",
        "      ((1, 2), (2, 1))}\n",
        "  \"\"\"\n",
        "  x, y = torch.arange(p), torch.arange(p)\n",
        "  x, y = torch.cartesian_prod(x, y).T\n",
        "  result = (x + y) % p\n",
        "  result_to_pair = {}\n",
        "  for i in range(len(result)):\n",
        "    pair = (x[i].item(), y[i].item())\n",
        "    if result[i].item() in result_to_pair:\n",
        "      result_to_pair[result[i].item()].append(pair)\n",
        "    else: \n",
        "      result_to_pair[result[i].item()] = [pair]\n",
        "  \n",
        "  pairs = set()\n",
        "  for s in result_to_pair.keys():\n",
        "    pairs = pairs.union(set(itertools.combinations(result_to_pair[s], 2)))\n",
        "  \n",
        "  return pairs\n",
        "\n",
        "def RQI(embeddings, args, pairs):\n",
        "  \"\"\"\n",
        "  returns RQI value defined in physics paper\n",
        "  P (R, δ) = {(i, j, m, n)|(i, j, m, n) ∈ P0, |(Ei + Ej ) − (Em + En)| ≤ δ}\n",
        "  input:\n",
        "    embeddings - embeddings weights in model\n",
        "    args - training regime args, must specify delta\n",
        "    pairs - pairs to check (can use getAdditionPairs for addition operation)\n",
        "  \"\"\"\n",
        "  P_zero = len(pairs)\n",
        "  P_R = 0\n",
        "  for pair in pairs:\n",
        "    if torch.norm(embeddings[pair[0][0],:] + embeddings[pair[0][1]] - (\n",
        "        embeddings[pair[1][0],:] + embeddings[pair[1][1]]\n",
        "    )) < args.delta: \n",
        "      P_R += 1\n",
        "  return P_R / P_zero"
      ],
      "metadata": {
        "id": "0BySCmh4bEi_"
      },
      "execution_count": 20,
      "outputs": []
    },
    {
      "cell_type": "code",
      "source": [
        "getAdditionPairs(3)"
      ],
      "metadata": {
        "colab": {
          "base_uri": "https://localhost:8080/"
        },
        "id": "-Ia9qkzV8vNJ",
        "outputId": "a2419d3d-e979-4399-8bad-94557ec2a47e"
      },
      "execution_count": 21,
      "outputs": [
        {
          "output_type": "execute_result",
          "data": {
            "text/plain": [
              "{((0, 0), (1, 2)),\n",
              " ((0, 0), (2, 1)),\n",
              " ((0, 1), (1, 0)),\n",
              " ((0, 1), (2, 2)),\n",
              " ((0, 2), (1, 1)),\n",
              " ((0, 2), (2, 0)),\n",
              " ((1, 0), (2, 2)),\n",
              " ((1, 1), (2, 0)),\n",
              " ((1, 2), (2, 1))}"
            ]
          },
          "metadata": {},
          "execution_count": 21
        }
      ]
    },
    {
      "cell_type": "code",
      "source": [
        "def main(args, model, device, operations, train_data_pct=0.5):\n",
        "  \"\"\"\n",
        "  main function used for training and validation\n",
        "  includes a lot of data recording and plotting\n",
        "  \"\"\"\n",
        "  # \"We train on the binary operation of division mod 97 with 50% of the data\n",
        "  # in the training set.\"\n",
        "  model.token_embeddings.state_dict()['weight']\n",
        "  data = mod_p_data(args.p, operations)\n",
        "  randomized_indices = torch.randperm(data.shape[1])\n",
        "  num_training_examples = int(data.shape[1]*train_data_pct)\n",
        "  print(f'training on {num_training_examples} out of {data.shape[1]} examples')\n",
        "  train_idx, valid_idx = randomized_indices[:num_training_examples], randomized_indices[num_training_examples + 1:]\n",
        "  train_data, valid_data = data[:, train_idx], data[:, valid_idx]\n",
        "\n",
        "  optimizer = getattr(torch.optim, args.optimizer)(\n",
        "      model.parameters(),\n",
        "      lr=args.lr,\n",
        "      weight_decay=args.weight_decay,\n",
        "  )\n",
        "\n",
        "  steps_per_epoch = math.ceil(train_data.shape[1] / args.batch_size)\n",
        "\n",
        "  # measure the accuracies and losses throughout training\n",
        "  train_acc, val_acc, train_loss, val_loss = [], [], [], []\n",
        "  # measure the accuracies at steps which measure RQI's, so we can plot on same axis\n",
        "  train_acc_2, val_acc_2 = [], []\n",
        "\n",
        "  # measure the norms of different layers of model\n",
        "  embedding_norm = []\n",
        "  last_layer_norm = []\n",
        "  layer_1_norm = []\n",
        "  layer_2_norm = []\n",
        "\n",
        "  # measure the # of steps till memorization, generalization, as well as steps in between\n",
        "  steps_till_perfect_training = None\n",
        "  steps_till_perfect_validation = None\n",
        "  difference_in_steps = None\n",
        "\n",
        "  # measure rqi, note that a single rqi measurement takes a lot of computation\n",
        "  rqi = []\n",
        "  pairs = getAdditionPairs(args.p)\n",
        "  all_losses = []\n",
        "\n",
        "  for e in tqdm(range(int(args.budget) // steps_per_epoch)):\n",
        "    # randomly shuffle train data\n",
        "    train_data = train_data[:, torch.randperm(train_data.shape[1])]\n",
        "    epoch_losses = []\n",
        "\n",
        "    for data, is_train in [(train_data, True), (valid_data, False)]:\n",
        "        model.train(is_train)\n",
        "        total_loss = 0\n",
        "        total_acc = 0\n",
        "\n",
        "        # torch.split faster than dataloader with tensor\n",
        "        dl = torch.split(data, args.batch_size, dim=1)\n",
        "        for input in dl:\n",
        "            input = input.to(device)\n",
        "\n",
        "            with torch.set_grad_enabled(is_train):\n",
        "                logits = model(input[0], input[1])\n",
        "                # calculate loss (cross entropy) only on the answer part of the equation (last element)\n",
        "                if (not is_train):\n",
        "                  loss = F.cross_entropy(logits, input[-1])\n",
        "                else:\n",
        "                  individual_losses = F.cross_entropy(logits, input[-1], reduction=\"none\")\n",
        "                  epoch_losses.append(individual_losses)\n",
        "                  loss = individual_losses.mean()\n",
        "                total_loss += loss.item() * input.shape[-1]\n",
        "\n",
        "            if is_train:\n",
        "                model.zero_grad()\n",
        "                loss.backward()\n",
        "                optimizer.step()\n",
        "                if args.const_norm:\n",
        "                  model.normalize()\n",
        "\n",
        "            acc = (logits.argmax(-1) == input[-1]).float().mean()\n",
        "            total_acc += acc.item() * input.shape[-1]\n",
        "\n",
        "        if is_train:\n",
        "            training_acc = total_acc / train_data.shape[-1]\n",
        "            train_acc.append(training_acc)\n",
        "            if steps_till_perfect_training == None and round(training_acc, 6) == 1.0:\n",
        "              steps_till_perfect_training = len(train_acc) * steps_per_epoch\n",
        "              print(f\"took {steps_till_perfect_training} steps to reach perfect training accuracy\")\n",
        "            train_loss.append(total_loss / train_data.shape[-1])\n",
        "            embedding_norm.append(torch.norm(model.token_embeddings.weight.cpu()).item())\n",
        "            last_layer_norm.append(torch.norm(model.head.weight.cpu()).item())\n",
        "            layer_1_norm.append(torch.norm(model.decoder[0].weight.cpu()).item())\n",
        "            layer_2_norm.append(torch.norm(model.decoder[2].weight.cpu()).item())\n",
        "            all_losses.append(torch.concat(epoch_losses))\n",
        "\n",
        "        else:\n",
        "            validation_acc = total_acc / valid_data.shape[-1]\n",
        "            val_acc.append(validation_acc)\n",
        "            if steps_till_perfect_validation == None and round(validation_acc, 6) == 1.0:\n",
        "              steps_till_perfect_validation = len(val_acc) * steps_per_epoch\n",
        "              print(f\"took {steps_till_perfect_validation} steps to reach perfect validation accuracy\")\n",
        "            val_loss.append(total_loss / valid_data.shape[-1])\n",
        "        if steps_till_perfect_training != None and steps_till_perfect_validation != None and difference_in_steps == None:\n",
        "          difference_in_steps = steps_till_perfect_validation - steps_till_perfect_training\n",
        "        \n",
        "    # rqi graph, only measured/shown when args.measure_rqi = True\n",
        "    if e % args.measure_rqi_rate == 0 and args.measure_rqi:\n",
        "      rqi_i = RQI(model.token_embeddings.state_dict()['weight'], args, pairs)\n",
        "      rqi.append(rqi_i)\n",
        "      train_acc_2.append(train_acc[-1])\n",
        "      val_acc_2.append(val_acc[-1])\n",
        "      steps = torch.arange(len(rqi)).numpy() * args.measure_rqi_rate * steps_per_epoch\n",
        "      plt.plot(steps, rqi, label=\"rqi\")\n",
        "      plt.plot(steps, train_acc_2, label=\"train\")\n",
        "      plt.plot(steps, val_acc_2, label=\"val\")\n",
        "      plt.legend()\n",
        "      plt.title(f\"weight decay {args.weight_decay}, max_norm {args.max_norm}\")\n",
        "      plt.xlabel(\"Steps\")\n",
        "      plt.ylabel(\"RQI\")\n",
        "      plt.xscale(\"log\")\n",
        "      plt.savefig(\"rqi.png\", dpi=150)\n",
        "      plt.close()\n",
        "        \n",
        "    if (e + 1) % 100 == 0:\n",
        "      steps = torch.arange(len(train_acc)).numpy() * steps_per_epoch\n",
        "      plt.plot(steps, train_acc, label=\"train\")\n",
        "      plt.plot(steps, val_acc, label=\"val\")\n",
        "      plt.legend()\n",
        "      plt.title(f\"weight decay {args.weight_decay}, max_norm {args.max_norm}, val-train steps {difference_in_steps}\")\n",
        "      plt.xlabel(\"Optimization Steps\")\n",
        "      plt.ylabel(\"Accuracy\")\n",
        "      plt.xscale(\"log\")\n",
        "      plt.savefig(\"acc.png\", dpi=150)\n",
        "      plt.close()\n",
        "\n",
        "      plt.plot(steps, train_loss, label=\"train\")\n",
        "      plt.plot(steps, val_loss, label=\"val\")\n",
        "      plt.legend()\n",
        "      plt.title(f\"weight decay {args.weight_decay}, max_norm {args.max_norm}\")\n",
        "      plt.xlabel(\"Optimization Steps\")\n",
        "      plt.ylabel(\"Loss\")\n",
        "      plt.xscale(\"log\")\n",
        "      plt.savefig(\"loss.png\", dpi=150)\n",
        "      plt.close()\n",
        "\n",
        "      # plot the train and validation loss (normalized) with validation accuracy\n",
        "      max_train_val_loss = max(max(max(val_loss), max(train_loss)), 1)\n",
        "      plt.plot(steps, val_acc , label=\"accuracy\")\n",
        "      plt.plot(steps, [loss_i/max_train_val_loss for loss_i in val_loss], label=\"val_loss_normalized\")\n",
        "      plt.plot(steps, [loss_i/max_train_val_loss for loss_i in train_loss], label=\"train_loss_normalized\")\n",
        "      plt.legend()\n",
        "      plt.title(f\"loss & validation acc, weight decay {args.weight_decay}, max_norm {args.max_norm}\")\n",
        "      plt.xlabel(\"Optimization Steps\")\n",
        "      plt.ylabel(\"%\")\n",
        "      plt.xscale(\"log\")\n",
        "      plt.savefig(\"val_loss_acc.png\", dpi=150)\n",
        "      plt.close()\n",
        "\n",
        "      # plot the norm of model layers\n",
        "      plt.plot(steps, embedding_norm, label=\"embedding\")\n",
        "      plt.plot(steps, last_layer_norm, label=\"last_layer\")\n",
        "      plt.plot(steps, layer_1_norm, label=\"layer_1\")\n",
        "      plt.plot(steps, layer_2_norm, label=\"layer_2\")\n",
        "      plt.legend()\n",
        "      plt.title(f\"weight decay {args.weight_decay}, max_norm {args.max_norm}\")\n",
        "      plt.xlabel(\"Optimization Steps\")\n",
        "      plt.ylabel(\"Norm\")\n",
        "      plt.xscale(\"log\")\n",
        "      plt.savefig(\"norm.png\", dpi=150)\n",
        "      plt.close()\n",
        "  if difference_in_steps != None:\n",
        "    print(f\"took {difference_in_steps} steps from perfect training to perfect accuracy\")\n",
        "  return all_losses"
      ],
      "metadata": {
        "id": "ha2DKxbJQUnu"
      },
      "execution_count": 22,
      "outputs": []
    },
    {
      "cell_type": "code",
      "source": [
        "class Args:\n",
        "    p = 97\n",
        "    budget = 1e4\n",
        "    batch_size = 512\n",
        "    lr = 1e-3\n",
        "    weight_decay = 0.002\n",
        "    optimizer = 'Adam'\n",
        "\n",
        "    # rqi\n",
        "    measure_rqi = False\n",
        "    measure_rqi_rate = 100\n",
        "    delta = 5\n",
        "\n",
        "    # normalization\n",
        "    # const_norm is based on omnigrok paper, normalizes the embedding layer after every optim step\n",
        "    const_norm = False\n",
        "    # use_norm_layer adds a norm_layer after embedding layer\n",
        "    use_norm_layer = False\n",
        "    # max_norm constrains the max_norm of the embedding layer (based on pytorch implementation), to eliminate set to None\n",
        "    max_norm = 2\n",
        "\n",
        "args = Args()\n",
        "\n",
        "torch.manual_seed(5)\n",
        "device = torch.device(\"cuda\" if torch.cuda.is_available() else \"cpu\")"
      ],
      "metadata": {
        "id": "THKE7U24RZOV"
      },
      "execution_count": 23,
      "outputs": []
    },
    {
      "cell_type": "code",
      "source": [
        "model = MLPModel(\n",
        "    dim=128, num_tokens=args.p, max_norm=args.max_norm, use_norm_layer=args.use_norm_layer\n",
        ").to(device)\n",
        "\n",
        "all_losses = main(args, model, device, ['addition'], 0.5)"
      ],
      "metadata": {
        "colab": {
          "base_uri": "https://localhost:8080/"
        },
        "id": "BA4xyb_G9iov",
        "outputId": "5198164c-d856-4336-c984-61b4cedda58c"
      },
      "execution_count": 24,
      "outputs": [
        {
          "output_type": "stream",
          "name": "stdout",
          "text": [
            "training on 2376 out of 4753 examples\n"
          ]
        },
        {
          "output_type": "stream",
          "name": "stderr",
          "text": [
            " 32%|███▏      | 631/2000 [00:24<00:44, 31.03it/s]"
          ]
        },
        {
          "output_type": "stream",
          "name": "stdout",
          "text": [
            "took 3120 steps to reach perfect training accuracy\n"
          ]
        },
        {
          "output_type": "stream",
          "name": "stderr",
          "text": [
            "100%|██████████| 2000/2000 [01:08<00:00, 29.10it/s]\n"
          ]
        }
      ]
    },
    {
      "cell_type": "code",
      "source": [
        "torch.save(model.state_dict(), 'model')\n",
        "torch.save(model.token_embeddings.state_dict(), 'embeddings')\n",
        "embeddings = torch.load('embeddings')\n",
        "print(f\"there are {embeddings['weight'].shape[0]} embeddings with size {embeddings['weight'].shape[1]}\")\n",
        "pca = PCA(n_components=2)\n",
        "components = pca.fit_transform(embeddings['weight'].cpu().numpy())\n",
        "multiplier = 1.1\n",
        "plt.xlim((min(components[:args.p,0])*multiplier, max(components[:args.p,0])*multiplier))\n",
        "plt.ylim((min(components[:args.p,1])*multiplier, max(components[:args.p,1])*multiplier))\n",
        "for i in range(args.p):\n",
        "  plt.annotate(i, (components[i,0], components[i,1]))\n",
        "plt.title(f\"Modular Multiplication, p = {args.p}, weight decay {args.weight_decay}\")\n",
        "plt.show()"
      ],
      "metadata": {
        "colab": {
          "base_uri": "https://localhost:8080/",
          "height": 299
        },
        "id": "4oUJbRwLXmgR",
        "outputId": "3612fb80-8398-43ab-ef3b-9b387e3fde4f"
      },
      "execution_count": 25,
      "outputs": [
        {
          "output_type": "stream",
          "name": "stdout",
          "text": [
            "there are 97 embeddings with size 128\n"
          ]
        },
        {
          "output_type": "display_data",
          "data": {
            "text/plain": [
              "<Figure size 432x288 with 1 Axes>"
            ],
            "image/png": "[encoded data removed]"
          },
          "metadata": {
            "needs_background": "light"
          }
        }
      ]
    },
    {
      "cell_type": "markdown",
      "source": [
        "# loss of individual samples"
      ],
      "metadata": {
        "id": "xQlH8YRuC8Al"
      }
    },
    {
      "cell_type": "code",
      "source": [
        "losses = torch.vstack(all_losses).cpu().detach().numpy()"
      ],
      "metadata": {
        "id": "RQj8wzrHGSR7"
      },
      "execution_count": 26,
      "outputs": []
    },
    {
      "cell_type": "code",
      "source": [
        "loss_means = losses.mean(axis=0)\n",
        "plt.title(\"mean loss of samples\")\n",
        "plt.scatter(torch.arange(loss_means.shape[0]), loss_means)"
      ],
      "metadata": {
        "colab": {
          "base_uri": "https://localhost:8080/",
          "height": 299
        },
        "id": "riwo7Y7BJDDr",
        "outputId": "886ad3ed-03f5-4211-bb04-8873e1c9032f"
      },
      "execution_count": 27,
      "outputs": [
        {
          "output_type": "execute_result",
          "data": {
            "text/plain": [
              "<matplotlib.collections.PathCollection at 0x7f815dc004d0>"
            ]
          },
          "metadata": {},
          "execution_count": 27
        },
        {
          "output_type": "display_data",
          "data": {
            "text/plain": [
              "<Figure size 432x288 with 1 Axes>"
            ],
            "image/png": "[encoded data removed]"
          },
          "metadata": {
            "needs_background": "light"
          }
        }
      ]
    },
    {
      "cell_type": "code",
      "source": [
        "loss_stds = losses.std(axis=0)\n",
        "plt.title(\"standard deviation loss of samples\")\n",
        "plt.scatter(torch.arange(loss_stds.shape[0]), loss_stds)"
      ],
      "metadata": {
        "colab": {
          "base_uri": "https://localhost:8080/",
          "height": 299
        },
        "id": "tQ7sVp2jKABD",
        "outputId": "cd162d76-9780-43e1-e829-60f8bb25473a"
      },
      "execution_count": 28,
      "outputs": [
        {
          "output_type": "execute_result",
          "data": {
            "text/plain": [
              "<matplotlib.collections.PathCollection at 0x7f815ceed8d0>"
            ]
          },
          "metadata": {},
          "execution_count": 28
        },
        {
          "output_type": "display_data",
          "data": {
            "text/plain": [
              "<Figure size 432x288 with 1 Axes>"
            ],
            "image/png": "[encoded data removed]"
          },
          "metadata": {
            "needs_background": "light"
          }
        }
      ]
    },
    {
      "cell_type": "code",
      "source": [
        "loss_maxes = losses.max(axis=0)\n",
        "plt.title(\"max loss of samples\")\n",
        "plt.scatter(torch.arange(loss_maxes.shape[0]), loss_maxes)"
      ],
      "metadata": {
        "colab": {
          "base_uri": "https://localhost:8080/",
          "height": 299
        },
        "id": "CAftz6-mKyBk",
        "outputId": "08d7a738-55d2-4913-bb05-28a57a3357ff"
      },
      "execution_count": 29,
      "outputs": [
        {
          "output_type": "execute_result",
          "data": {
            "text/plain": [
              "<matplotlib.collections.PathCollection at 0x7f815cf86490>"
            ]
          },
          "metadata": {},
          "execution_count": 29
        },
        {
          "output_type": "display_data",
          "data": {
            "text/plain": [
              "<Figure size 432x288 with 1 Axes>"
            ],
            "image/png": "[encoded data removed]"
          },
          "metadata": {
            "needs_background": "light"
          }
        }
      ]
    },
    {
      "cell_type": "markdown",
      "source": [
        "# multi-head operation\n",
        "- single embedding layer followed by multiple decoders trained on different operations"
      ],
      "metadata": {
        "id": "VFqNYmEomxgO"
      }
    },
    {
      "cell_type": "code",
      "source": [
        "class ModelMultiHead(nn.Module):\n",
        "  def __init__(self, dim=128, num_tokens=97, max_norm=None):\n",
        "    super().__init__()\n",
        "    self.token_embeddings = nn.Embedding(num_tokens, dim, max_norm=max_norm)\n",
        "    self.decoder_1 = nn.Sequential(\n",
        "        nn.Linear(dim, 200),\n",
        "        nn.ReLU(),\n",
        "        nn.Linear(200, dim),\n",
        "        nn.ReLU(),\n",
        "    )\n",
        "    self.decoder_2 = nn.Sequential(\n",
        "        nn.Linear(dim, 200),\n",
        "        nn.ReLU(),\n",
        "        nn.Linear(200, dim),\n",
        "        nn.ReLU(),\n",
        "    )\n",
        "    self.head_1 = nn.Linear(dim, num_tokens)\n",
        "    self.head_2 = nn.Linear(dim, num_tokens)\n",
        "\n",
        "  def forward(self, x1, x2):\n",
        "    h1 = self.token_embeddings(x1)\n",
        "    h2 = self.token_embeddings(x2)\n",
        "\n",
        "    h = h1 + h2\n",
        "    x_1 = self.decoder_1(h)\n",
        "    x_2 = self.decoder_2(h)\n",
        "    return self.head_1(x_1), self.head_2(x_2)"
      ],
      "metadata": {
        "id": "ySf0azfEwYQi"
      },
      "execution_count": null,
      "outputs": []
    },
    {
      "cell_type": "code",
      "source": [
        "def main2(args, model, device):\n",
        "  # \"We train on the binary operation of division mod 97 with 50% of the data\n",
        "  # in the training set.\"\n",
        "  data = mod_p_data(args.p, [\"multiplication\", \"addition\"])\n",
        "  train_idx, valid_idx = torch.randperm(data.shape[1]).split(data.shape[1] // 2)[:2]\n",
        "  train_data, valid_data = data[:, train_idx], data[:, valid_idx]\n",
        "\n",
        "  # For most experiments we used AdamW optimizer with learning rate 10−3,\n",
        "  # weight decay 1, β1 = 0.9, β2 = 0.98\n",
        "  optimizer = getattr(torch.optim, args.optimizer)(\n",
        "      model.parameters(),\n",
        "      lr=args.lr,\n",
        "      weight_decay=args.weight_decay,\n",
        "  )\n",
        "\n",
        "  steps_per_epoch = math.ceil(train_data.shape[1] / args.batch_size)\n",
        "\n",
        "  add_train_acc, add_val_acc, add_train_loss, add_val_loss = [], [], [], []\n",
        "  mult_train_acc, mult_val_acc, mult_train_loss, mult_val_loss = [], [], [], []\n",
        "\n",
        "  embedding_norm = []\n",
        "\n",
        "  for e in tqdm(range(int(args.budget) // steps_per_epoch)):\n",
        "\n",
        "    # randomly shuffle train data\n",
        "    train_data = train_data[:, torch.randperm(train_data.shape[1])]\n",
        "    epoch_losses = []\n",
        "\n",
        "    for data, is_train in [(train_data, True), (valid_data, False)]:\n",
        "\n",
        "        model.train(is_train)\n",
        "        add_total_loss = 0\n",
        "        add_total_acc = 0\n",
        "        mult_total_loss = 0\n",
        "        mult_total_acc = 0\n",
        "\n",
        "        # torch.split faster than dataloader with tensor\n",
        "        dl = torch.split(data, args.batch_size, dim=1)\n",
        "        for input in dl:\n",
        "            input = input.to(device)\n",
        "\n",
        "            with torch.set_grad_enabled(is_train):\n",
        "                logits_add, logits_mult = model(input[0], input[1])\n",
        "                loss_add = F.cross_entropy(logits_add, input[-1]) # addition\n",
        "                loss_mult = F.cross_entropy(logits_mult, input[-2]) # multiplication\n",
        "                add_total_loss += loss_add.item() * input.shape[-1]\n",
        "                mult_total_loss += loss_mult.item() * input.shape[-1]\n",
        "\n",
        "            if is_train:\n",
        "                model.zero_grad()\n",
        "                loss_add.backward(retain_graph=True)\n",
        "                loss_mult.backward()\n",
        "                optimizer.step()\n",
        "\n",
        "            add_acc = (logits_add.argmax(-1) == input[-1]).float().mean()\n",
        "            mult_acc = (logits_mult.argmax(-1) == input[-2]).float().mean()\n",
        "            # wrong_index = ((logits.argmax(-1) != input[-1]) == True).nonzero(as_tuple=True)[0]\n",
        "            # print(f\"wrong index, {wrong_index}\")\n",
        "            add_total_acc += add_acc.item() * input.shape[-1]\n",
        "            mult_total_acc += mult_acc.item() * input.shape[-1]\n",
        "\n",
        "        if is_train:\n",
        "            add_train_acc.append(add_total_acc / train_data.shape[-1])\n",
        "            add_train_loss.append(add_total_loss / train_data.shape[-1])\n",
        "            mult_train_acc.append(mult_total_acc / train_data.shape[-1])\n",
        "            mult_train_loss.append(mult_total_loss / train_data.shape[-1])\n",
        "        else:\n",
        "            add_val_acc.append(add_total_acc / valid_data.shape[-1])\n",
        "            add_val_loss.append(add_total_loss / valid_data.shape[-1])\n",
        "            mult_val_acc.append(mult_total_acc / valid_data.shape[-1])\n",
        "            mult_val_loss.append(mult_total_loss / valid_data.shape[-1])\n",
        "      \n",
        "        \n",
        "    if (e + 1) % 100 == 0:\n",
        "      steps = torch.arange(len(add_train_acc)).numpy() * steps_per_epoch\n",
        "      plt.plot(steps, add_train_acc, label=\"add_train\")\n",
        "      plt.plot(steps, mult_train_acc, label=\"mult_train\")\n",
        "      plt.plot(steps, add_val_acc, label=\"add_val\")\n",
        "      plt.plot(steps, mult_val_acc, label=\"mult_val\")\n",
        "      plt.legend()\n",
        "      plt.title(f\"weight decay {args.weight_decay}, max_norm {args.max_norm}\")\n",
        "      plt.xlabel(\"Optimization Steps\")\n",
        "      plt.ylabel(\"Accuracy\")\n",
        "      plt.xscale(\"log\")\n",
        "      plt.savefig(\"acc.png\", dpi=150)\n",
        "      plt.close()\n",
        "\n",
        "      plt.plot(steps, add_train_loss, label=\"add_train\")\n",
        "      plt.plot(steps, mult_train_loss, label=\"mult_train\")\n",
        "      plt.plot(steps, add_val_loss, label=\"add_val\")\n",
        "      plt.plot(steps, mult_val_loss, label=\"mult_val\")\n",
        "      plt.legend()\n",
        "      plt.title(f\"weight decay {args.weight_decay}, max_norm {args.max_norm}\")\n",
        "      plt.xlabel(\"Optimization Steps\")\n",
        "      plt.ylabel(\"Loss\")\n",
        "      plt.xscale(\"log\")\n",
        "      plt.savefig(\"loss.png\", dpi=150)\n",
        "      plt.close()"
      ],
      "metadata": {
        "id": "zM_A2Fk-xWpM"
      },
      "execution_count": null,
      "outputs": []
    },
    {
      "cell_type": "code",
      "source": [
        "model = ModelMultiHead(\n",
        "    dim=128, num_tokens=args.p, max_norm=args.max_norm\n",
        ").to(device)\n",
        "\n",
        "main2(args, model, device)"
      ],
      "metadata": {
        "id": "UKTJ7ycgRfjt"
      },
      "execution_count": null,
      "outputs": []
    }
  ]
}